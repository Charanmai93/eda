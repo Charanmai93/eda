{
 "cells": [
  {
   "cell_type": "code",
   "execution_count": null,
   "id": "229f0fac-ead1-4704-b192-abcf4aedfee2",
   "metadata": {},
   "outputs": [],
   "source": []
  },
  {
   "cell_type": "code",
   "execution_count": 10,
   "id": "9b673637-b106-4f00-901e-685214f08eef",
   "metadata": {},
   "outputs": [],
   "source": [
    "import pandas as pd\n",
    "import numpy as np"
   ]
  },
  {
   "cell_type": "markdown",
   "id": "47eb6afc-b536-435f-a591-4dcdc963c18a",
   "metadata": {},
   "source": [
    "### Load dataset"
   ]
  },
  {
   "cell_type": "code",
   "execution_count": 22,
   "id": "84cf7e80-72e5-4deb-94e9-7b9f56bc7971",
   "metadata": {},
   "outputs": [
    {
     "data": {
      "text/html": [
       "<div>\n",
       "<style scoped>\n",
       "    .dataframe tbody tr th:only-of-type {\n",
       "        vertical-align: middle;\n",
       "    }\n",
       "\n",
       "    .dataframe tbody tr th {\n",
       "        vertical-align: top;\n",
       "    }\n",
       "\n",
       "    .dataframe thead th {\n",
       "        text-align: right;\n",
       "    }\n",
       "</style>\n",
       "<table border=\"1\" class=\"dataframe\">\n",
       "  <thead>\n",
       "    <tr style=\"text-align: right;\">\n",
       "      <th></th>\n",
       "      <th>index</th>\n",
       "      <th>airline</th>\n",
       "      <th>flight</th>\n",
       "      <th>source_city</th>\n",
       "      <th>departure_time</th>\n",
       "      <th>stops</th>\n",
       "      <th>arrival_time</th>\n",
       "      <th>destination_city</th>\n",
       "      <th>class</th>\n",
       "      <th>duration</th>\n",
       "      <th>days_left</th>\n",
       "      <th>price</th>\n",
       "    </tr>\n",
       "  </thead>\n",
       "  <tbody>\n",
       "    <tr>\n",
       "      <th>0</th>\n",
       "      <td>290000.0</td>\n",
       "      <td>Vistara</td>\n",
       "      <td>UK-822</td>\n",
       "      <td>Chennai</td>\n",
       "      <td>Morning</td>\n",
       "      <td>one</td>\n",
       "      <td>Night</td>\n",
       "      <td>Delhi</td>\n",
       "      <td>Business</td>\n",
       "      <td>12.17</td>\n",
       "      <td>43.0</td>\n",
       "      <td>60160.0</td>\n",
       "    </tr>\n",
       "    <tr>\n",
       "      <th>1</th>\n",
       "      <td>290001.0</td>\n",
       "      <td>Vistara</td>\n",
       "      <td>UK-824</td>\n",
       "      <td>Chennai</td>\n",
       "      <td>Night</td>\n",
       "      <td>one</td>\n",
       "      <td>Morning</td>\n",
       "      <td>Delhi</td>\n",
       "      <td>Business</td>\n",
       "      <td>13.17</td>\n",
       "      <td>43.0</td>\n",
       "      <td>60160.0</td>\n",
       "    </tr>\n",
       "    <tr>\n",
       "      <th>2</th>\n",
       "      <td>290002.0</td>\n",
       "      <td>Vistara</td>\n",
       "      <td>UK-828</td>\n",
       "      <td>Chennai</td>\n",
       "      <td>Early_Morning</td>\n",
       "      <td>one</td>\n",
       "      <td>Night</td>\n",
       "      <td>Delhi</td>\n",
       "      <td>Business</td>\n",
       "      <td>13.67</td>\n",
       "      <td>43.0</td>\n",
       "      <td>60160.0</td>\n",
       "    </tr>\n",
       "    <tr>\n",
       "      <th>3</th>\n",
       "      <td>290003.0</td>\n",
       "      <td>Vistara</td>\n",
       "      <td>UK-824</td>\n",
       "      <td>Chennai</td>\n",
       "      <td>Night</td>\n",
       "      <td>one</td>\n",
       "      <td>Morning</td>\n",
       "      <td>Delhi</td>\n",
       "      <td>Business</td>\n",
       "      <td>14.50</td>\n",
       "      <td>43.0</td>\n",
       "      <td>60160.0</td>\n",
       "    </tr>\n",
       "    <tr>\n",
       "      <th>4</th>\n",
       "      <td>290004.0</td>\n",
       "      <td>Vistara</td>\n",
       "      <td>UK-828</td>\n",
       "      <td>Chennai</td>\n",
       "      <td>Early_Morning</td>\n",
       "      <td>one</td>\n",
       "      <td>Night</td>\n",
       "      <td>Delhi</td>\n",
       "      <td>Business</td>\n",
       "      <td>14.92</td>\n",
       "      <td>43.0</td>\n",
       "      <td>60160.0</td>\n",
       "    </tr>\n",
       "    <tr>\n",
       "      <th>...</th>\n",
       "      <td>...</td>\n",
       "      <td>...</td>\n",
       "      <td>...</td>\n",
       "      <td>...</td>\n",
       "      <td>...</td>\n",
       "      <td>...</td>\n",
       "      <td>...</td>\n",
       "      <td>...</td>\n",
       "      <td>...</td>\n",
       "      <td>...</td>\n",
       "      <td>...</td>\n",
       "      <td>...</td>\n",
       "    </tr>\n",
       "    <tr>\n",
       "      <th>10148</th>\n",
       "      <td>300148.0</td>\n",
       "      <td>Vistara</td>\n",
       "      <td>UK-822</td>\n",
       "      <td>Chennai</td>\n",
       "      <td>Morning</td>\n",
       "      <td>one</td>\n",
       "      <td>Evening</td>\n",
       "      <td>Hyderabad</td>\n",
       "      <td>Business</td>\n",
       "      <td>10.08</td>\n",
       "      <td>49.0</td>\n",
       "      <td>69265.0</td>\n",
       "    </tr>\n",
       "    <tr>\n",
       "      <th>10149</th>\n",
       "      <td>300149.0</td>\n",
       "      <td>Vistara</td>\n",
       "      <td>UK-826</td>\n",
       "      <td>Chennai</td>\n",
       "      <td>Afternoon</td>\n",
       "      <td>one</td>\n",
       "      <td>Night</td>\n",
       "      <td>Hyderabad</td>\n",
       "      <td>Business</td>\n",
       "      <td>10.42</td>\n",
       "      <td>NaN</td>\n",
       "      <td>77105.0</td>\n",
       "    </tr>\n",
       "    <tr>\n",
       "      <th>10150</th>\n",
       "      <td>300150.0</td>\n",
       "      <td>Vistara</td>\n",
       "      <td>UK-832</td>\n",
       "      <td>Chennai</td>\n",
       "      <td>Early_Morning</td>\n",
       "      <td>one</td>\n",
       "      <td>Night</td>\n",
       "      <td>Hyderabad</td>\n",
       "      <td>Business</td>\n",
       "      <td>13.83</td>\n",
       "      <td>NaN</td>\n",
       "      <td>79099.0</td>\n",
       "    </tr>\n",
       "    <tr>\n",
       "      <th>10151</th>\n",
       "      <td>300151.0</td>\n",
       "      <td>Vistara</td>\n",
       "      <td>UK-828</td>\n",
       "      <td>Chennai</td>\n",
       "      <td>Early_Morning</td>\n",
       "      <td>one</td>\n",
       "      <td>Evening</td>\n",
       "      <td>Hyderabad</td>\n",
       "      <td>Business</td>\n",
       "      <td>10.00</td>\n",
       "      <td>49.0</td>\n",
       "      <td>81585.0</td>\n",
       "    </tr>\n",
       "    <tr>\n",
       "      <th>10152</th>\n",
       "      <td>300152.0</td>\n",
       "      <td>Vistara</td>\n",
       "      <td>UK-822</td>\n",
       "      <td>Chennai</td>\n",
       "      <td>Morning</td>\n",
       "      <td>one</td>\n",
       "      <td>Evening</td>\n",
       "      <td>Hyderabad</td>\n",
       "      <td>Business</td>\n",
       "      <td>10.08</td>\n",
       "      <td>49.0</td>\n",
       "      <td>81585.0</td>\n",
       "    </tr>\n",
       "  </tbody>\n",
       "</table>\n",
       "<p>10153 rows × 12 columns</p>\n",
       "</div>"
      ],
      "text/plain": [
       "          index  airline  flight source_city departure_time stops  \\\n",
       "0      290000.0  Vistara  UK-822     Chennai        Morning   one   \n",
       "1      290001.0  Vistara  UK-824     Chennai          Night   one   \n",
       "2      290002.0  Vistara  UK-828     Chennai  Early_Morning   one   \n",
       "3      290003.0  Vistara  UK-824     Chennai          Night   one   \n",
       "4      290004.0  Vistara  UK-828     Chennai  Early_Morning   one   \n",
       "...         ...      ...     ...         ...            ...   ...   \n",
       "10148  300148.0  Vistara  UK-822     Chennai        Morning   one   \n",
       "10149  300149.0  Vistara  UK-826     Chennai      Afternoon   one   \n",
       "10150  300150.0  Vistara  UK-832     Chennai  Early_Morning   one   \n",
       "10151  300151.0  Vistara  UK-828     Chennai  Early_Morning   one   \n",
       "10152  300152.0  Vistara  UK-822     Chennai        Morning   one   \n",
       "\n",
       "      arrival_time destination_city     class  duration  days_left    price  \n",
       "0            Night            Delhi  Business     12.17       43.0  60160.0  \n",
       "1          Morning            Delhi  Business     13.17       43.0  60160.0  \n",
       "2            Night            Delhi  Business     13.67       43.0  60160.0  \n",
       "3          Morning            Delhi  Business     14.50       43.0  60160.0  \n",
       "4            Night            Delhi  Business     14.92       43.0  60160.0  \n",
       "...            ...              ...       ...       ...        ...      ...  \n",
       "10148      Evening        Hyderabad  Business     10.08       49.0  69265.0  \n",
       "10149        Night        Hyderabad  Business     10.42        NaN  77105.0  \n",
       "10150        Night        Hyderabad  Business     13.83        NaN  79099.0  \n",
       "10151      Evening        Hyderabad  Business     10.00       49.0  81585.0  \n",
       "10152      Evening        Hyderabad  Business     10.08       49.0  81585.0  \n",
       "\n",
       "[10153 rows x 12 columns]"
      ]
     },
     "execution_count": 22,
     "metadata": {},
     "output_type": "execute_result"
    }
   ],
   "source": [
    "df=pd.read_csv(\"airlines_flights_data_with_random_nulls.csv\")\n",
    "df"
   ]
  },
  {
   "cell_type": "markdown",
   "id": "bc744111-a102-4ef2-a9b6-28eae2008dee",
   "metadata": {},
   "source": [
    "### Observation:\n",
    " - Dataset has been loaded successfully using pd.read_csv()"
   ]
  },
  {
   "cell_type": "markdown",
   "id": "8b3ee1e2-73db-4693-95b7-464f14153355",
   "metadata": {},
   "source": [
    "### Understanding the Structure of the Dataset"
   ]
  },
  {
   "cell_type": "code",
   "execution_count": 12,
   "id": "396f08cb-08d4-4d14-9b50-b358dfbda764",
   "metadata": {},
   "outputs": [
    {
     "data": {
      "text/plain": [
       "(10153, 12)"
      ]
     },
     "execution_count": 12,
     "metadata": {},
     "output_type": "execute_result"
    }
   ],
   "source": [
    "df.shape"
   ]
  },
  {
   "cell_type": "markdown",
   "id": "15527b08-0b09-4eaf-b43f-4047499eda67",
   "metadata": {},
   "source": [
    "### Observation:\n",
    " - The dataset contains 10153 rows and 12 columns representing various airlines flights details ."
   ]
  },
  {
   "cell_type": "markdown",
   "id": "3fe3bbaf-02ec-4736-a195-a48acacb096a",
   "metadata": {},
   "source": [
    "### Previewing the first few rows"
   ]
  },
  {
   "cell_type": "code",
   "execution_count": 13,
   "id": "04300271-d6ca-4ea9-b607-2f66b4d420d8",
   "metadata": {},
   "outputs": [
    {
     "data": {
      "text/html": [
       "<div>\n",
       "<style scoped>\n",
       "    .dataframe tbody tr th:only-of-type {\n",
       "        vertical-align: middle;\n",
       "    }\n",
       "\n",
       "    .dataframe tbody tr th {\n",
       "        vertical-align: top;\n",
       "    }\n",
       "\n",
       "    .dataframe thead th {\n",
       "        text-align: right;\n",
       "    }\n",
       "</style>\n",
       "<table border=\"1\" class=\"dataframe\">\n",
       "  <thead>\n",
       "    <tr style=\"text-align: right;\">\n",
       "      <th></th>\n",
       "      <th>index</th>\n",
       "      <th>airline</th>\n",
       "      <th>flight</th>\n",
       "      <th>source_city</th>\n",
       "      <th>departure_time</th>\n",
       "      <th>stops</th>\n",
       "      <th>arrival_time</th>\n",
       "      <th>destination_city</th>\n",
       "      <th>class</th>\n",
       "      <th>duration</th>\n",
       "      <th>days_left</th>\n",
       "      <th>price</th>\n",
       "    </tr>\n",
       "  </thead>\n",
       "  <tbody>\n",
       "    <tr>\n",
       "      <th>0</th>\n",
       "      <td>290000.0</td>\n",
       "      <td>Vistara</td>\n",
       "      <td>UK-822</td>\n",
       "      <td>Chennai</td>\n",
       "      <td>Morning</td>\n",
       "      <td>one</td>\n",
       "      <td>Night</td>\n",
       "      <td>Delhi</td>\n",
       "      <td>Business</td>\n",
       "      <td>12.17</td>\n",
       "      <td>43.0</td>\n",
       "      <td>60160.0</td>\n",
       "    </tr>\n",
       "    <tr>\n",
       "      <th>1</th>\n",
       "      <td>290001.0</td>\n",
       "      <td>Vistara</td>\n",
       "      <td>UK-824</td>\n",
       "      <td>Chennai</td>\n",
       "      <td>Night</td>\n",
       "      <td>one</td>\n",
       "      <td>Morning</td>\n",
       "      <td>Delhi</td>\n",
       "      <td>Business</td>\n",
       "      <td>13.17</td>\n",
       "      <td>43.0</td>\n",
       "      <td>60160.0</td>\n",
       "    </tr>\n",
       "    <tr>\n",
       "      <th>2</th>\n",
       "      <td>290002.0</td>\n",
       "      <td>Vistara</td>\n",
       "      <td>UK-828</td>\n",
       "      <td>Chennai</td>\n",
       "      <td>Early_Morning</td>\n",
       "      <td>one</td>\n",
       "      <td>Night</td>\n",
       "      <td>Delhi</td>\n",
       "      <td>Business</td>\n",
       "      <td>13.67</td>\n",
       "      <td>43.0</td>\n",
       "      <td>60160.0</td>\n",
       "    </tr>\n",
       "    <tr>\n",
       "      <th>3</th>\n",
       "      <td>290003.0</td>\n",
       "      <td>Vistara</td>\n",
       "      <td>UK-824</td>\n",
       "      <td>Chennai</td>\n",
       "      <td>Night</td>\n",
       "      <td>one</td>\n",
       "      <td>Morning</td>\n",
       "      <td>Delhi</td>\n",
       "      <td>Business</td>\n",
       "      <td>14.50</td>\n",
       "      <td>43.0</td>\n",
       "      <td>60160.0</td>\n",
       "    </tr>\n",
       "    <tr>\n",
       "      <th>4</th>\n",
       "      <td>290004.0</td>\n",
       "      <td>Vistara</td>\n",
       "      <td>UK-828</td>\n",
       "      <td>Chennai</td>\n",
       "      <td>Early_Morning</td>\n",
       "      <td>one</td>\n",
       "      <td>Night</td>\n",
       "      <td>Delhi</td>\n",
       "      <td>Business</td>\n",
       "      <td>14.92</td>\n",
       "      <td>43.0</td>\n",
       "      <td>60160.0</td>\n",
       "    </tr>\n",
       "  </tbody>\n",
       "</table>\n",
       "</div>"
      ],
      "text/plain": [
       "      index  airline  flight source_city departure_time stops arrival_time  \\\n",
       "0  290000.0  Vistara  UK-822     Chennai        Morning   one        Night   \n",
       "1  290001.0  Vistara  UK-824     Chennai          Night   one      Morning   \n",
       "2  290002.0  Vistara  UK-828     Chennai  Early_Morning   one        Night   \n",
       "3  290003.0  Vistara  UK-824     Chennai          Night   one      Morning   \n",
       "4  290004.0  Vistara  UK-828     Chennai  Early_Morning   one        Night   \n",
       "\n",
       "  destination_city     class  duration  days_left    price  \n",
       "0            Delhi  Business     12.17       43.0  60160.0  \n",
       "1            Delhi  Business     13.17       43.0  60160.0  \n",
       "2            Delhi  Business     13.67       43.0  60160.0  \n",
       "3            Delhi  Business     14.50       43.0  60160.0  \n",
       "4            Delhi  Business     14.92       43.0  60160.0  "
      ]
     },
     "execution_count": 13,
     "metadata": {},
     "output_type": "execute_result"
    }
   ],
   "source": [
    "df.head()"
   ]
  },
  {
   "cell_type": "markdown",
   "id": "43cba464-8225-4e39-9ed5-f6eb3cf987c4",
   "metadata": {},
   "source": [
    "### Observation:\n",
    " - The preview shows the first few rows of the data and helps us check if the file loaded correctly."
   ]
  },
  {
   "cell_type": "code",
   "execution_count": 14,
   "id": "5a9ade3c-c84b-4e73-928f-844373b67a2f",
   "metadata": {},
   "outputs": [
    {
     "data": {
      "text/html": [
       "<div>\n",
       "<style scoped>\n",
       "    .dataframe tbody tr th:only-of-type {\n",
       "        vertical-align: middle;\n",
       "    }\n",
       "\n",
       "    .dataframe tbody tr th {\n",
       "        vertical-align: top;\n",
       "    }\n",
       "\n",
       "    .dataframe thead th {\n",
       "        text-align: right;\n",
       "    }\n",
       "</style>\n",
       "<table border=\"1\" class=\"dataframe\">\n",
       "  <thead>\n",
       "    <tr style=\"text-align: right;\">\n",
       "      <th></th>\n",
       "      <th>index</th>\n",
       "      <th>airline</th>\n",
       "      <th>flight</th>\n",
       "      <th>source_city</th>\n",
       "      <th>departure_time</th>\n",
       "      <th>stops</th>\n",
       "      <th>arrival_time</th>\n",
       "      <th>destination_city</th>\n",
       "      <th>class</th>\n",
       "      <th>duration</th>\n",
       "      <th>days_left</th>\n",
       "      <th>price</th>\n",
       "    </tr>\n",
       "  </thead>\n",
       "  <tbody>\n",
       "    <tr>\n",
       "      <th>10148</th>\n",
       "      <td>300148.0</td>\n",
       "      <td>Vistara</td>\n",
       "      <td>UK-822</td>\n",
       "      <td>Chennai</td>\n",
       "      <td>Morning</td>\n",
       "      <td>one</td>\n",
       "      <td>Evening</td>\n",
       "      <td>Hyderabad</td>\n",
       "      <td>Business</td>\n",
       "      <td>10.08</td>\n",
       "      <td>49.0</td>\n",
       "      <td>69265.0</td>\n",
       "    </tr>\n",
       "    <tr>\n",
       "      <th>10149</th>\n",
       "      <td>300149.0</td>\n",
       "      <td>Vistara</td>\n",
       "      <td>UK-826</td>\n",
       "      <td>Chennai</td>\n",
       "      <td>Afternoon</td>\n",
       "      <td>one</td>\n",
       "      <td>Night</td>\n",
       "      <td>Hyderabad</td>\n",
       "      <td>Business</td>\n",
       "      <td>10.42</td>\n",
       "      <td>NaN</td>\n",
       "      <td>77105.0</td>\n",
       "    </tr>\n",
       "    <tr>\n",
       "      <th>10150</th>\n",
       "      <td>300150.0</td>\n",
       "      <td>Vistara</td>\n",
       "      <td>UK-832</td>\n",
       "      <td>Chennai</td>\n",
       "      <td>Early_Morning</td>\n",
       "      <td>one</td>\n",
       "      <td>Night</td>\n",
       "      <td>Hyderabad</td>\n",
       "      <td>Business</td>\n",
       "      <td>13.83</td>\n",
       "      <td>NaN</td>\n",
       "      <td>79099.0</td>\n",
       "    </tr>\n",
       "    <tr>\n",
       "      <th>10151</th>\n",
       "      <td>300151.0</td>\n",
       "      <td>Vistara</td>\n",
       "      <td>UK-828</td>\n",
       "      <td>Chennai</td>\n",
       "      <td>Early_Morning</td>\n",
       "      <td>one</td>\n",
       "      <td>Evening</td>\n",
       "      <td>Hyderabad</td>\n",
       "      <td>Business</td>\n",
       "      <td>10.00</td>\n",
       "      <td>49.0</td>\n",
       "      <td>81585.0</td>\n",
       "    </tr>\n",
       "    <tr>\n",
       "      <th>10152</th>\n",
       "      <td>300152.0</td>\n",
       "      <td>Vistara</td>\n",
       "      <td>UK-822</td>\n",
       "      <td>Chennai</td>\n",
       "      <td>Morning</td>\n",
       "      <td>one</td>\n",
       "      <td>Evening</td>\n",
       "      <td>Hyderabad</td>\n",
       "      <td>Business</td>\n",
       "      <td>10.08</td>\n",
       "      <td>49.0</td>\n",
       "      <td>81585.0</td>\n",
       "    </tr>\n",
       "  </tbody>\n",
       "</table>\n",
       "</div>"
      ],
      "text/plain": [
       "          index  airline  flight source_city departure_time stops  \\\n",
       "10148  300148.0  Vistara  UK-822     Chennai        Morning   one   \n",
       "10149  300149.0  Vistara  UK-826     Chennai      Afternoon   one   \n",
       "10150  300150.0  Vistara  UK-832     Chennai  Early_Morning   one   \n",
       "10151  300151.0  Vistara  UK-828     Chennai  Early_Morning   one   \n",
       "10152  300152.0  Vistara  UK-822     Chennai        Morning   one   \n",
       "\n",
       "      arrival_time destination_city     class  duration  days_left    price  \n",
       "10148      Evening        Hyderabad  Business     10.08       49.0  69265.0  \n",
       "10149        Night        Hyderabad  Business     10.42        NaN  77105.0  \n",
       "10150        Night        Hyderabad  Business     13.83        NaN  79099.0  \n",
       "10151      Evening        Hyderabad  Business     10.00       49.0  81585.0  \n",
       "10152      Evening        Hyderabad  Business     10.08       49.0  81585.0  "
      ]
     },
     "execution_count": 14,
     "metadata": {},
     "output_type": "execute_result"
    }
   ],
   "source": [
    "df.tail()"
   ]
  },
  {
   "cell_type": "markdown",
   "id": "4fff757b-77b2-43d5-b415-e3c96e1601ef",
   "metadata": {},
   "source": [
    "### observation\n",
    "-  To get the bottom n number of rows from the dataset using df.tail() deafult 5 rows"
   ]
  },
  {
   "cell_type": "markdown",
   "id": "6479261f-a1aa-48de-bd62-aae162a6c727",
   "metadata": {},
   "source": [
    "### Dataset Structure and Data Types"
   ]
  },
  {
   "cell_type": "code",
   "execution_count": 15,
   "id": "04d10ca4-2db5-4722-960a-b3da30e4fe73",
   "metadata": {},
   "outputs": [
    {
     "name": "stdout",
     "output_type": "stream",
     "text": [
      "<class 'pandas.core.frame.DataFrame'>\n",
      "RangeIndex: 10153 entries, 0 to 10152\n",
      "Data columns (total 12 columns):\n",
      " #   Column            Non-Null Count  Dtype  \n",
      "---  ------            --------------  -----  \n",
      " 0   index             10027 non-null  float64\n",
      " 1   airline           9849 non-null   object \n",
      " 2   flight            10009 non-null  object \n",
      " 3   source_city       10060 non-null  object \n",
      " 4   departure_time    10021 non-null  object \n",
      " 5   stops             9850 non-null   object \n",
      " 6   arrival_time      9978 non-null   object \n",
      " 7   destination_city  10093 non-null  object \n",
      " 8   class             10053 non-null  object \n",
      " 9   duration          9913 non-null   float64\n",
      " 10  days_left         9836 non-null   float64\n",
      " 11  price             9926 non-null   float64\n",
      "dtypes: float64(4), object(8)\n",
      "memory usage: 952.0+ KB\n"
     ]
    }
   ],
   "source": [
    "df.info()"
   ]
  },
  {
   "cell_type": "markdown",
   "id": "e1dc97ca-52ef-4889-8c47-a8587e11f9f3",
   "metadata": {},
   "source": [
    "### Observation:\n",
    " - The dataset contains 10153 records and 12 columns.\n",
    " - Out of the 12 columns:\n",
    "    - 8 are categorical (object type), such as stops and airline.\n",
    "    - 4 are numerical (int64 and float 64), including price,duration, days_left .\n",
    " - The dataset occupies approximately 952.0+ kb of memory."
   ]
  },
  {
   "cell_type": "markdown",
   "id": "d2867a45-d4f1-4b6a-a572-2449119ee89e",
   "metadata": {},
   "source": [
    "### Statistical Overview of Numerical Data"
   ]
  },
  {
   "cell_type": "code",
   "execution_count": 16,
   "id": "014665ca-4b06-4ae8-bd69-b8e23a477ffa",
   "metadata": {},
   "outputs": [
    {
     "data": {
      "text/html": [
       "<div>\n",
       "<style scoped>\n",
       "    .dataframe tbody tr th:only-of-type {\n",
       "        vertical-align: middle;\n",
       "    }\n",
       "\n",
       "    .dataframe tbody tr th {\n",
       "        vertical-align: top;\n",
       "    }\n",
       "\n",
       "    .dataframe thead th {\n",
       "        text-align: right;\n",
       "    }\n",
       "</style>\n",
       "<table border=\"1\" class=\"dataframe\">\n",
       "  <thead>\n",
       "    <tr style=\"text-align: right;\">\n",
       "      <th></th>\n",
       "      <th>index</th>\n",
       "      <th>duration</th>\n",
       "      <th>days_left</th>\n",
       "      <th>price</th>\n",
       "    </tr>\n",
       "  </thead>\n",
       "  <tbody>\n",
       "    <tr>\n",
       "      <th>count</th>\n",
       "      <td>10027.000000</td>\n",
       "      <td>9913.000000</td>\n",
       "      <td>9836.000000</td>\n",
       "      <td>9926.000000</td>\n",
       "    </tr>\n",
       "    <tr>\n",
       "      <th>mean</th>\n",
       "      <td>295072.825371</td>\n",
       "      <td>14.896065</td>\n",
       "      <td>26.435136</td>\n",
       "      <td>54532.112936</td>\n",
       "    </tr>\n",
       "    <tr>\n",
       "      <th>std</th>\n",
       "      <td>2931.123408</td>\n",
       "      <td>6.453178</td>\n",
       "      <td>13.822940</td>\n",
       "      <td>11965.243978</td>\n",
       "    </tr>\n",
       "    <tr>\n",
       "      <th>min</th>\n",
       "      <td>290000.000000</td>\n",
       "      <td>1.000000</td>\n",
       "      <td>2.000000</td>\n",
       "      <td>12000.000000</td>\n",
       "    </tr>\n",
       "    <tr>\n",
       "      <th>25%</th>\n",
       "      <td>292535.500000</td>\n",
       "      <td>10.170000</td>\n",
       "      <td>15.000000</td>\n",
       "      <td>49553.000000</td>\n",
       "    </tr>\n",
       "    <tr>\n",
       "      <th>50%</th>\n",
       "      <td>295073.000000</td>\n",
       "      <td>13.920000</td>\n",
       "      <td>27.000000</td>\n",
       "      <td>54896.000000</td>\n",
       "    </tr>\n",
       "    <tr>\n",
       "      <th>75%</th>\n",
       "      <td>297610.500000</td>\n",
       "      <td>19.830000</td>\n",
       "      <td>39.000000</td>\n",
       "      <td>60260.000000</td>\n",
       "    </tr>\n",
       "    <tr>\n",
       "      <th>max</th>\n",
       "      <td>300152.000000</td>\n",
       "      <td>45.830000</td>\n",
       "      <td>49.000000</td>\n",
       "      <td>114704.000000</td>\n",
       "    </tr>\n",
       "  </tbody>\n",
       "</table>\n",
       "</div>"
      ],
      "text/plain": [
       "               index     duration    days_left          price\n",
       "count   10027.000000  9913.000000  9836.000000    9926.000000\n",
       "mean   295072.825371    14.896065    26.435136   54532.112936\n",
       "std      2931.123408     6.453178    13.822940   11965.243978\n",
       "min    290000.000000     1.000000     2.000000   12000.000000\n",
       "25%    292535.500000    10.170000    15.000000   49553.000000\n",
       "50%    295073.000000    13.920000    27.000000   54896.000000\n",
       "75%    297610.500000    19.830000    39.000000   60260.000000\n",
       "max    300152.000000    45.830000    49.000000  114704.000000"
      ]
     },
     "execution_count": 16,
     "metadata": {},
     "output_type": "execute_result"
    }
   ],
   "source": [
    "df.describe()"
   ]
  },
  {
   "cell_type": "markdown",
   "id": "30ec4610-f49f-4593-adbf-ce1fd9bbed57",
   "metadata": {},
   "source": [
    "### Observation:\n",
    " - The summary shows fundamental statistical measures like mean, min, max, and standard deviation for all numerical columns.\n",
    " - For example: The mean of price is around 54532.112936"
   ]
  },
  {
   "cell_type": "markdown",
   "id": "57e0663b-7517-40b2-8add-396fea7a677a",
   "metadata": {},
   "source": [
    "### Null Value Count Across All Columns"
   ]
  },
  {
   "cell_type": "code",
   "execution_count": 17,
   "id": "d84db802-a620-4fc7-94db-c3c792069c0f",
   "metadata": {},
   "outputs": [
    {
     "data": {
      "text/plain": [
       "index               126\n",
       "airline             304\n",
       "flight              144\n",
       "source_city          93\n",
       "departure_time      132\n",
       "stops               303\n",
       "arrival_time        175\n",
       "destination_city     60\n",
       "class               100\n",
       "duration            240\n",
       "days_left           317\n",
       "price               227\n",
       "dtype: int64"
      ]
     },
     "execution_count": 17,
     "metadata": {},
     "output_type": "execute_result"
    }
   ],
   "source": [
    "df.isnull().sum()"
   ]
  },
  {
   "cell_type": "markdown",
   "id": "4a3579ed-0fdc-4219-8af2-5235dc396290",
   "metadata": {},
   "source": [
    "### observation\n",
    "- This dataset consists of  substantial missing data across most columns—particularly in days_left, airline, and stops, each having over 300 missing entries—highlighting the need for careful imputation or data-cleaning before meaningful analysis."
   ]
  },
  {
   "cell_type": "markdown",
   "id": "b8f08919-07cd-4ce6-a89a-3b180e7c3391",
   "metadata": {},
   "source": [
    "### Percentage of Missing Values"
   ]
  },
  {
   "cell_type": "code",
   "execution_count": 20,
   "id": "b438bdab-1972-4d83-8c1d-fdfa208bccdd",
   "metadata": {},
   "outputs": [
    {
     "data": {
      "text/plain": [
       "index               1.24\n",
       "airline             2.99\n",
       "flight              1.42\n",
       "source_city         0.92\n",
       "departure_time      1.30\n",
       "stops               2.98\n",
       "arrival_time        1.72\n",
       "destination_city    0.59\n",
       "class               0.98\n",
       "duration            2.36\n",
       "days_left           3.12\n",
       "price               2.24\n",
       "dtype: float64"
      ]
     },
     "execution_count": 20,
     "metadata": {},
     "output_type": "execute_result"
    }
   ],
   "source": [
    "round(df.isnull().sum()/len(df)*100,2)"
   ]
  },
  {
   "cell_type": "markdown",
   "id": "0eeba65e-9897-4021-a2ce-24f94778a0c7",
   "metadata": {},
   "source": [
    "### Observation:\n",
    " - This dataset contains missing values across all columns, though the percentage of missing data is relatively low.\n",
    " - The column with the highest proportion of missing values is days_left at 3.12%, followed by airline (2.99%) and stops (2.98%).\n",
    " - These columns may require attention either through imputation or removal depending on their significance to the analysis.\n",
    "\n",
    "- Other columns such as flight, arrival_time, duration, and price have moderate missingness (between 1.4% to 2.4%), which still needs to be handled but is less critical.\n",
    "- Columns like destination_city, source_city, and class have less than 1% missing data, indicating minimal data quality issues there."
   ]
  },
  {
   "cell_type": "code",
   "execution_count": 21,
   "id": "d3573c4e-093e-443c-942f-dc4c3c3fc7ce",
   "metadata": {},
   "outputs": [
    {
     "name": "stdout",
     "output_type": "stream",
     "text": [
      "<class 'pandas.core.frame.DataFrame'>\n",
      "RangeIndex: 10153 entries, 0 to 10152\n",
      "Data columns (total 12 columns):\n",
      " #   Column            Non-Null Count  Dtype  \n",
      "---  ------            --------------  -----  \n",
      " 0   index             10027 non-null  float64\n",
      " 1   airline           9849 non-null   object \n",
      " 2   flight            10009 non-null  object \n",
      " 3   source_city       10060 non-null  object \n",
      " 4   departure_time    10021 non-null  object \n",
      " 5   stops             9850 non-null   object \n",
      " 6   arrival_time      9978 non-null   object \n",
      " 7   destination_city  10093 non-null  object \n",
      " 8   class             10053 non-null  object \n",
      " 9   duration          9913 non-null   float64\n",
      " 10  days_left         9836 non-null   float64\n",
      " 11  price             9926 non-null   float64\n",
      "dtypes: float64(4), object(8)\n",
      "memory usage: 952.0+ KB\n"
     ]
    }
   ],
   "source": [
    "df.info()"
   ]
  },
  {
   "cell_type": "markdown",
   "id": "760c1cb6-c366-4ff0-80ad-f69829ab6c2e",
   "metadata": {},
   "source": [
    "### Value Count Summary (Airlines flights dataset)\n",
    "\n",
    "1. **Airline**\n",
    "\n",
    "   * The name of the airline company is stored in the airline column. It is a categorical feature having 6 different airlines.\n",
    "   * Examples: \tair_india, Vistara and indigo etc.\n",
    "\n",
    "2. **flight**\n",
    "\n",
    "   *  Flight stores information regarding the plane's flight code. It is a categorical feature.\n",
    "   *  Likely Unique Values: Many (acts as an identifier)\n",
    "\n",
    "3. **Source City**\n",
    "\n",
    "   * City from which the flight takes off. It is a categorical feature having 6 unique cities.\n",
    "   * About 93 records are missing in this information.\n",
    "\n",
    "4. **Departure Time**\n",
    "\n",
    "   * This is a derived categorical feature obtained created by grouping time periods into bins.\n",
    "   * It stores information about the departure time and have 6 unique time labels.\n",
    "   \n",
    "\n",
    "5. **Stops**\n",
    "\n",
    "   * A categorical feature with 3 distinct values that stores the number of stops between the source and destination cities.\n",
    "\n",
    "6. **Arrival Time**\n",
    "\n",
    "   * This is a derived categorical feature created by grouping time intervals into bins.\n",
    "   * It has six distinct time labels and keeps information about the arrival time.\n",
    "\n",
    "7. **Destination City**\n",
    "\n",
    "   * City where the flight will land. It is a categorical feature having 6 unique cities.\n",
    "   * Only 60 missing, mostly complete.\n",
    "\n",
    "8. **Class**\n",
    "\n",
    "   * A categorical feature that contains information on seat class; it has two distinct values: Business and Economy.\n",
    "   * The amount missing (100 entries).\n",
    "\n",
    "9. **Duration**\n",
    "\n",
    "   * A continuous feature that displays the overall amount of time it takes to travel between cities in hours.\n",
    "   * The missing values (240).\n",
    "\n",
    "10. **Days Left**\n",
    "\n",
    "   * This is a derived characteristic that is calculated by subtracting the trip date by the booking date.\n",
    "   * Higher values means the job can mostly be done from home.\n",
    "   * Has 317 missing values.\n",
    "\n",
    "11. **Price**\n",
    "\n",
    "   * Target variable stores information of the ticket price.\n",
    "   * A high percentage means the job is at risk of being replaced.\n",
    "   * 227 entries missing.\n"
   ]
  },
  {
   "cell_type": "code",
   "execution_count": 23,
   "id": "439cf011-7147-4353-9703-7fde6bc1dc55",
   "metadata": {},
   "outputs": [
    {
     "data": {
      "text/plain": [
       "Index(['index', 'airline', 'flight', 'source_city', 'departure_time', 'stops',\n",
       "       'arrival_time', 'destination_city', 'class', 'duration', 'days_left',\n",
       "       'price'],\n",
       "      dtype='object')"
      ]
     },
     "execution_count": 23,
     "metadata": {},
     "output_type": "execute_result"
    }
   ],
   "source": [
    "df.columns"
   ]
  },
  {
   "cell_type": "code",
   "execution_count": 24,
   "id": "2e898375-57fa-4e32-9e31-e734631d0345",
   "metadata": {},
   "outputs": [
    {
     "data": {
      "text/plain": [
       "airline\n",
       "Vistara      6432\n",
       "Air_India    3417\n",
       "Name: count, dtype: int64"
      ]
     },
     "execution_count": 24,
     "metadata": {},
     "output_type": "execute_result"
    }
   ],
   "source": [
    "df['airline'].value_counts()"
   ]
  },
  {
   "cell_type": "markdown",
   "id": "2ca70649-1c6d-421a-80e2-113969ebc2f8",
   "metadata": {},
   "source": [
    "### observation\n",
    "- Vistara appears 6432 times, which is almost double the count of Air India.\n",
    "- Air India appears 3417 times.\n",
    "- Vistara is the most frequent airline in this dataset, suggesting that the dataset has more records related to Vistara flights.\n",
    "- There is a noticeable imbalance between the two airlines, which could impact analyses if you are doing comparisons, modeling, or visualizations.\n",
    "- Only two airlines are listed. If the dataset is supposed to include more airlines, some might be missing or filtered out.\n"
   ]
  },
  {
   "cell_type": "code",
   "execution_count": 25,
   "id": "afa364a5-79b7-4882-9126-149528c07493",
   "metadata": {},
   "outputs": [
    {
     "data": {
      "text/plain": [
       "flight\n",
       "UK-836    1111\n",
       "UK-838    1059\n",
       "UK-832    1054\n",
       "UK-822     719\n",
       "AI-440     708\n",
       "UK-826     671\n",
       "AI-430     658\n",
       "UK-834     658\n",
       "UK-824     655\n",
       "AI-539     635\n",
       "AI-538     633\n",
       "UK-828     617\n",
       "AI-672     300\n",
       "AI-766     210\n",
       "AI-569     205\n",
       "AI-429      56\n",
       "AI-545      41\n",
       "AI-563       7\n",
       "AI-509       6\n",
       "AI-549       3\n",
       "AI-551       3\n",
       "Name: count, dtype: int64"
      ]
     },
     "execution_count": 25,
     "metadata": {},
     "output_type": "execute_result"
    }
   ],
   "source": [
    "df['flight'].value_counts()"
   ]
  },
  {
   "cell_type": "markdown",
   "id": "91c9734c-c780-4d74-af78-af1a3a014fe4",
   "metadata": {},
   "source": [
    "### Observation: \n",
    " - UK-836 has the highest frequency with 1111 occurrences.\n",
    " - Other frequent flights include UK-838 (1059), UK-832 (1054), and UK-822 (719).\n",
    " - These flights seem to dominate the dataset, indicating they are either more popular or have more data entries.\n",
    " - Flights like AI-440 (708), UK-826 (671), AI-430 (658), and UK-834 (658) have moderate counts.\n",
    " - UK flights generally have higher counts than AI flights.\n",
    " - There is a long tail of flights with very few occurrences, which may indicate rare routes, irregular flights, or incomplete data."
   ]
  },
  {
   "cell_type": "code",
   "execution_count": 26,
   "id": "bcf59fa2-2e70-4cff-90b3-5dfe8ef873fe",
   "metadata": {},
   "outputs": [
    {
     "data": {
      "text/plain": [
       "source_city\n",
       "Chennai    10060\n",
       "Name: count, dtype: int64"
      ]
     },
     "execution_count": 26,
     "metadata": {},
     "output_type": "execute_result"
    }
   ],
   "source": [
    "df['source_city'].value_counts()"
   ]
  },
  {
   "cell_type": "code",
   "execution_count": 27,
   "id": "ea4eda14-b874-498f-9bf0-b9e70d6f9c44",
   "metadata": {},
   "outputs": [
    {
     "data": {
      "text/plain": [
       "departure_time\n",
       "Early_Morning    2655\n",
       "Morning          2639\n",
       "Night            2363\n",
       "Evening          1404\n",
       "Afternoon         960\n",
       "Name: count, dtype: int64"
      ]
     },
     "execution_count": 27,
     "metadata": {},
     "output_type": "execute_result"
    }
   ],
   "source": [
    "df['departure_time'].value_counts()"
   ]
  },
  {
   "cell_type": "markdown",
   "id": "64485698-c7cc-4d2f-a5ce-e14bdc35b960",
   "metadata": {},
   "source": [
    "### Observation:\n",
    " - Early Morning (2,655 flights) – most common departure time.\n",
    " - Morning (2,639 flights) – very close to Early Morning, showing high demand for early departures.\n",
    " - Night (2,363 flights) – also popular, but slightly lower.\n",
    " - Evening (1,404 flights) – significantly fewer flights compared to early slots.\n",
    " - Afternoon (960 flights) – the least common departure time."
   ]
  },
  {
   "cell_type": "code",
   "execution_count": 28,
   "id": "39415176-e9a6-4eff-8523-19611d778e20",
   "metadata": {},
   "outputs": [
    {
     "data": {
      "text/plain": [
       "stops\n",
       "one            9471\n",
       "zero            354\n",
       "two_or_more      25\n",
       "Name: count, dtype: int64"
      ]
     },
     "execution_count": 28,
     "metadata": {},
     "output_type": "execute_result"
    }
   ],
   "source": [
    "df['stops'].value_counts()"
   ]
  },
  {
   "cell_type": "markdown",
   "id": "fe0ba79c-0f79-4da1-9156-a21405c72104",
   "metadata": {},
   "source": [
    "### observation\n",
    "- The majority of flights (**\\~95%**) have **one stop**, while **non-stop (zero stops)** flights are rare, and **two or more stops** are extremely uncommon.\n",
    "- This indicates that most flights in the dataset are **connecting flights** rather than direct ones.\n"
   ]
  },
  {
   "cell_type": "code",
   "execution_count": 29,
   "id": "df0eff62-c18e-42bb-b690-9bcc99a263a7",
   "metadata": {},
   "outputs": [
    {
     "data": {
      "text/plain": [
       "arrival_time\n",
       "Evening          3043\n",
       "Night            2971\n",
       "Morning          2182\n",
       "Afternoon        1189\n",
       "Early_Morning     418\n",
       "Late_Night        175\n",
       "Name: count, dtype: int64"
      ]
     },
     "execution_count": 29,
     "metadata": {},
     "output_type": "execute_result"
    }
   ],
   "source": [
    "df['arrival_time'].value_counts()"
   ]
  },
  {
   "cell_type": "markdown",
   "id": "118132d3-1e80-4dd1-b13c-2c44077cdaf5",
   "metadata": {},
   "source": [
    "### observation\n",
    "- Most flights arrive in the **Evening (3,043)** and **Night (2,971)**, while **Late Night (175)** and **Early Morning (418)** arrivals are very rare.\n",
    "- This suggests that arrivals are highly concentrated in the later part of the day.\n"
   ]
  },
  {
   "cell_type": "code",
   "execution_count": 30,
   "id": "4e93ea9a-dc4e-48ab-a0c3-bf5b4277b09f",
   "metadata": {},
   "outputs": [
    {
     "data": {
      "text/plain": [
       "destination_city\n",
       "Mumbai       3036\n",
       "Bangalore    2520\n",
       "Kolkata      2124\n",
       "Hyderabad    2071\n",
       "Delhi         342\n",
       "Name: count, dtype: int64"
      ]
     },
     "execution_count": 30,
     "metadata": {},
     "output_type": "execute_result"
    }
   ],
   "source": [
    "df['destination_city'].value_counts()"
   ]
  },
  {
   "cell_type": "code",
   "execution_count": 32,
   "id": "805b4452-bd31-4bfb-a5a9-af197de6a091",
   "metadata": {},
   "outputs": [
    {
     "data": {
      "text/plain": [
       "class\n",
       "Business    10053\n",
       "Name: count, dtype: int64"
      ]
     },
     "execution_count": 32,
     "metadata": {},
     "output_type": "execute_result"
    }
   ],
   "source": [
    "df['class'].value_counts()"
   ]
  },
  {
   "cell_type": "code",
   "execution_count": 33,
   "id": "7cb8c2f4-0bb4-4cf1-8848-78b3e56c78d7",
   "metadata": {},
   "outputs": [
    {
     "data": {
      "text/plain": [
       "duration\n",
       "10.17    178\n",
       "10.08    175\n",
       "16.00    148\n",
       "13.17    141\n",
       "13.92    133\n",
       "        ... \n",
       "26.25      1\n",
       "45.83      1\n",
       "34.50      1\n",
       "1.00       1\n",
       "1.33       1\n",
       "Name: count, Length: 254, dtype: int64"
      ]
     },
     "execution_count": 33,
     "metadata": {},
     "output_type": "execute_result"
    }
   ],
   "source": [
    "df['duration'].value_counts()"
   ]
  },
  {
   "cell_type": "code",
   "execution_count": 34,
   "id": "eab8123f-678d-4e16-9496-0ede330f4f5c",
   "metadata": {
    "collapsed": true,
    "jupyter": {
     "outputs_hidden": true
    }
   },
   "outputs": [
    {
     "data": {
      "text/plain": [
       "days_left\n",
       "44.0    254\n",
       "47.0    244\n",
       "45.0    240\n",
       "49.0    237\n",
       "46.0    236\n",
       "48.0    225\n",
       "28.0    215\n",
       "43.0    214\n",
       "27.0    212\n",
       "22.0    211\n",
       "18.0    211\n",
       "36.0    211\n",
       "35.0    208\n",
       "24.0    208\n",
       "40.0    208\n",
       "41.0    208\n",
       "38.0    208\n",
       "15.0    207\n",
       "42.0    207\n",
       "37.0    206\n",
       "31.0    206\n",
       "30.0    205\n",
       "34.0    205\n",
       "29.0    205\n",
       "33.0    204\n",
       "32.0    203\n",
       "13.0    203\n",
       "7.0     202\n",
       "16.0    202\n",
       "20.0    202\n",
       "11.0    201\n",
       "39.0    200\n",
       "21.0    200\n",
       "9.0     200\n",
       "10.0    199\n",
       "14.0    198\n",
       "25.0    198\n",
       "23.0    198\n",
       "17.0    198\n",
       "19.0    198\n",
       "8.0     196\n",
       "12.0    195\n",
       "26.0    194\n",
       "5.0     194\n",
       "6.0     183\n",
       "4.0     168\n",
       "3.0     157\n",
       "2.0     152\n",
       "Name: count, dtype: int64"
      ]
     },
     "execution_count": 34,
     "metadata": {},
     "output_type": "execute_result"
    }
   ],
   "source": [
    "df['days_left'].value_counts()"
   ]
  },
  {
   "cell_type": "markdown",
   "id": "6e4dfe52-3203-437d-a858-d1398a0506e7",
   "metadata": {},
   "source": [
    "### Real Numerical Columns\n",
    " - index \n",
    "   - observation : Just the row index, not useful for modeling.\n",
    " - duration\n",
    "   - observation : Continuous measure of flight time; higher values mean longer flights.\n",
    " - days_left\n",
    "   - observation : Number of days before departure when the ticket was booked; useful for price prediction (last-minute tickets are often expensive).\n",
    " - price\n",
    "   - observation : Target/important feature; varies widely and depends on airline, class, days left, etc."
   ]
  },
  {
   "cell_type": "markdown",
   "id": "0b101146-a7a2-459e-a167-460fc5cefffe",
   "metadata": {},
   "source": [
    "### Categorical Data Columns\n",
    " - airline\n",
    "   - observation : Different airlines (categorical).\n",
    " - flight\n",
    "   - observation : Specific flight codes; high cardinality, may not be useful directly.\n",
    " - source_city & destination_city\n",
    "   - observation : Categorical locations of departure and arrival.\n",
    " - departure_time & arrival_time\n",
    "   - observation :  Flight schedule categories (e.g., Morning, Night, Evening).\n",
    " - stops\n",
    "   - observation :  Flight stops (zero, one, two_or_more) – ordinal in nature.\n",
    " - class\n",
    "   - observation : Travel class (Economy, Business) – ordinal in nature."
   ]
  },
  {
   "cell_type": "markdown",
   "id": "19553c09-a4d6-4263-b692-01ed4ff954bf",
   "metadata": {},
   "source": [
    "### Checking for Duplicates"
   ]
  },
  {
   "cell_type": "code",
   "execution_count": 35,
   "id": "4782ca3a-5d29-45e3-a011-3a22f58cc0f6",
   "metadata": {},
   "outputs": [
    {
     "data": {
      "text/plain": [
       "0"
      ]
     },
     "execution_count": 35,
     "metadata": {},
     "output_type": "execute_result"
    }
   ],
   "source": [
    "df.duplicated().sum()"
   ]
  },
  {
   "cell_type": "markdown",
   "id": "907edf4f-142b-4d88-abe3-9702326778fa",
   "metadata": {},
   "source": [
    "### Observation:\n",
    " - As seen there are no duplicates found in the dataset."
   ]
  },
  {
   "cell_type": "markdown",
   "id": "ce456726-f2b0-4000-9084-2e65329a957d",
   "metadata": {},
   "source": [
    "### Detecting Outliers"
   ]
  },
  {
   "cell_type": "markdown",
   "id": "83744352-20f8-473c-aba6-7a3294440072",
   "metadata": {},
   "source": [
    " - The IQR (Interquartile Range) method was used to detect outliers in all numerical columns as part of the non-visual analysis."
   ]
  },
  {
   "cell_type": "markdown",
   "id": "395faee9-9e2d-4d85-9d91-027a68e7cad7",
   "metadata": {},
   "source": [
    "### Steps:\n",
    " - Calculate Q1 (25th percentile) and Q3 (75th percentile)\n",
    " - Compute IQR = Q3 - Q1\n",
    " - Define lower and upper bounds:\n",
    " - Lower bound = Q1 − 1.5 × IQR\n",
    " -  Upper bound = Q3 + 1.5 × IQR\n",
    " -  Any value outside this range is considered an outlier"
   ]
  },
  {
   "cell_type": "code",
   "execution_count": 36,
   "id": "130bbce7-1231-4a85-bacc-f0e1de2dab99",
   "metadata": {},
   "outputs": [],
   "source": [
    "num_cols = df.select_dtypes(include=['float64', 'int64']).columns"
   ]
  },
  {
   "cell_type": "code",
   "execution_count": 37,
   "id": "50fe28f6-36d2-4dde-8d56-55062766462d",
   "metadata": {},
   "outputs": [],
   "source": [
    "outliers = {}"
   ]
  },
  {
   "cell_type": "code",
   "execution_count": 39,
   "id": "1639117d-f1ae-4e2d-9d50-155a58f8258b",
   "metadata": {},
   "outputs": [],
   "source": [
    "outliers = {}\n",
    "for col in num_cols:\n",
    "    if df[col].isnull().all():\n",
    "        continue  # Skip the columns with all missing values\n",
    "    Q1 = df[col].quantile(0.25)\n",
    "    Q3 = df[col].quantile(0.75)\n",
    "    IQR = Q3 - Q1\n",
    "    lower = Q1 - 1.5 * IQR\n",
    "    upper = Q3 + 1.5 * IQR\n",
    "    outlier_values = df[(df[col] < lower) | (df[col] > upper)][col]\n",
    "    if not outlier_values.empty:\n",
    "        outliers[col] = outlier_values.tolist()"
   ]
  },
  {
   "cell_type": "code",
   "execution_count": 40,
   "id": "687219a0-7db1-460c-8058-9eed691166ad",
   "metadata": {},
   "outputs": [
    {
     "name": "stdout",
     "output_type": "stream",
     "text": [
      "\n",
      "Outliers in column 'duration':\n",
      "[45.83, 34.5, 37.83]\n",
      "\n",
      "Outliers in column 'price':\n",
      "[76612.0, 27792.0, 27792.0, 27792.0, 27792.0, 27792.0, 27792.0, 27792.0, 27792.0, 76612.0, 27792.0, 27792.0, 27792.0, 27792.0, 27792.0, 76612.0, 27792.0, 27792.0, 27792.0, 27792.0, 27792.0, 76612.0, 27792.0, 27792.0, 27792.0, 27792.0, 27792.0, 76612.0, 27792.0, 27792.0, 27792.0, 27792.0, 27792.0, 76612.0, 27792.0, 27792.0, 27792.0, 27792.0, 27792.0, 27792.0, 76612.0, 25600.0, 25600.0, 26224.0, 30144.0, 76881.0, 76881.0, 77889.0, 80129.0, 80129.0, 80129.0, 80129.0, 80129.0, 80129.0, 83797.0, 85729.0, 85729.0, 85729.0, 89089.0, 91329.0, 93536.0, 97702.0, 97702.0, 25600.0, 25600.0, 30144.0, 30144.0, 76545.0, 77329.0, 78192.0, 80689.0, 82560.0, 82929.0, 84800.0, 85136.0, 88384.0, 88384.0, 92416.0, 93424.0, 97344.0, 98352.0, 99584.0, 99584.0, 101376.0, 23424.0, 23838.0, 30144.0, 31622.0, 76657.0, 77665.0, 77665.0, 78049.0, 78897.0, 78897.0, 78897.0, 80566.0, 80689.0, 80689.0, 82817.0, 82817.0, 98458.0, 110218.0, 23424.0, 23424.0, 23838.0, 23838.0, 23838.0, 23838.0, 31622.0, 76657.0, 78640.0, 80566.0, 80566.0, 80566.0, 80689.0, 82560.0, 84800.0, 85617.0, 90512.0, 90960.0, 90960.0, 93424.0, 98912.0, 101152.0, 101824.0, 103056.0, 105744.0, 109776.0, 114704.0, 23424.0, 23838.0, 23838.0, 23838.0, 23838.0, 30080.0, 31622.0, 77665.0, 77665.0, 78550.0, 78550.0, 78550.0, 78550.0, 78550.0, 78550.0, 80566.0, 80566.0, 80566.0, 80689.0, 80689.0, 23424.0, 23424.0, 23838.0, 23838.0, 23838.0, 23838.0, 31622.0, 77329.0, 77329.0, 77329.0, 78550.0, 78550.0, 78550.0, 78550.0, 80566.0, 80689.0, 80689.0, 86278.0, 86480.0, 86491.0, 86491.0, 90960.0, 90960.0, 93200.0, 93200.0, 93312.0, 98912.0, 98912.0, 105744.0, 23424.0, 23838.0, 23838.0, 23838.0, 23838.0, 31622.0, 80566.0, 86278.0, 88003.0, 23424.0, 23424.0, 23838.0, 23838.0, 23838.0, 23838.0, 31622.0, 76657.0, 78897.0, 80566.0, 80566.0, 84800.0, 90512.0, 90691.0, 23424.0, 23424.0, 23838.0, 23838.0, 23838.0, 23838.0, 31622.0, 76657.0, 78640.0, 78897.0, 78897.0, 80566.0, 85360.0, 86480.0, 90960.0, 90960.0, 90960.0, 90960.0, 93200.0, 93200.0, 93312.0, 107216.0, 107216.0, 23424.0, 23838.0, 23838.0, 23838.0, 23838.0, 31622.0, 80566.0, 80566.0, 80566.0, 23424.0, 23424.0, 23838.0, 23838.0, 23838.0, 23838.0, 31622.0, 78640.0, 80566.0, 80566.0, 80566.0, 85360.0, 86480.0, 90960.0, 90960.0, 90960.0, 90960.0, 93200.0, 93312.0, 101152.0, 23424.0, 23424.0, 23838.0, 23838.0, 23838.0, 23838.0, 31622.0, 77329.0, 78640.0, 80566.0, 80566.0, 86278.0, 90960.0, 93200.0, 106416.0, 23424.0, 23424.0, 23838.0, 23838.0, 23838.0, 23838.0, 31622.0, 76545.0, 76545.0, 80566.0, 80566.0, 80566.0, 82257.0, 23424.0, 23838.0, 23838.0, 23838.0, 23838.0, 31622.0, 76545.0, 80566.0, 80566.0, 80566.0, 23424.0, 23424.0, 23838.0, 23838.0, 23838.0, 23838.0, 31622.0, 80566.0, 80566.0, 80566.0, 23424.0, 23424.0, 23838.0, 23838.0, 23838.0, 23838.0, 31622.0, 80566.0, 80566.0, 80566.0, 86323.0, 23424.0, 23838.0, 23838.0, 23838.0, 23838.0, 31622.0, 78897.0, 78897.0, 80566.0, 80566.0, 86278.0, 23424.0, 23424.0, 23838.0, 23838.0, 23838.0, 23838.0, 31622.0, 78897.0, 78897.0, 80566.0, 80566.0, 80566.0, 23424.0, 23424.0, 23838.0, 23838.0, 23838.0, 23838.0, 31622.0, 78640.0, 80566.0, 80566.0, 80566.0, 85360.0, 85360.0, 86480.0, 90960.0, 90960.0, 90960.0, 90960.0, 93200.0, 93200.0, 23424.0, 23424.0, 23838.0, 23838.0, 23838.0, 23838.0, 31622.0, 80566.0, 80566.0, 80566.0, 23424.0, 23838.0, 23838.0, 23838.0, 23838.0, 31622.0, 76545.0, 76545.0, 80566.0, 80566.0, 80566.0, 82257.0, 23424.0, 23424.0, 23838.0, 23838.0, 23838.0, 23838.0, 31622.0, 80566.0, 80566.0, 80566.0, 23424.0, 23424.0, 23838.0, 23838.0, 23838.0, 31622.0, 76545.0, 76545.0, 76545.0, 80779.0, 82145.0, 92998.0, 92998.0, 92998.0, 23424.0, 23838.0, 23838.0, 23838.0, 23838.0, 31622.0, 76545.0, 76545.0, 80566.0, 80566.0, 80566.0, 82257.0, 23424.0, 23424.0, 23838.0, 23838.0, 23838.0, 23838.0, 31622.0, 78897.0, 80566.0, 80566.0, 80566.0, 23424.0, 23424.0, 23838.0, 23838.0, 23838.0, 23838.0, 31622.0, 80566.0, 80566.0, 80566.0, 84497.0, 23424.0, 23424.0, 23838.0, 23838.0, 23838.0, 31622.0, 76545.0, 80566.0, 80566.0, 80566.0, 23424.0, 23838.0, 23838.0, 23838.0, 23838.0, 31622.0, 80566.0, 80566.0, 80566.0, 23424.0, 23424.0, 23838.0, 23838.0, 23838.0, 23838.0, 80566.0, 80566.0, 23424.0, 23424.0, 23838.0, 23838.0, 23838.0, 23838.0, 31622.0, 80566.0, 80566.0, 80566.0, 23424.0, 23838.0, 23838.0, 23838.0, 23838.0, 31622.0, 80566.0, 80566.0, 80566.0, 23424.0, 23424.0, 23838.0, 23838.0, 23838.0, 23838.0, 31622.0, 76545.0, 80566.0, 80566.0, 80566.0, 82257.0, 23424.0, 23424.0, 23838.0, 23838.0, 23838.0, 23838.0, 31622.0, 80566.0, 80566.0, 80566.0, 23424.0, 23424.0, 23838.0, 23838.0, 23838.0, 23838.0, 31622.0, 80566.0, 80566.0, 80566.0, 23424.0, 23838.0, 23838.0, 23838.0, 23838.0, 31622.0, 80566.0, 80566.0, 80566.0, 23424.0, 23424.0, 23838.0, 23838.0, 23838.0, 23838.0, 31622.0, 80566.0, 80566.0, 80566.0, 23424.0, 23424.0, 23838.0, 23838.0, 23838.0, 23838.0, 31622.0, 78640.0, 80566.0, 80566.0, 88003.0, 90960.0, 90960.0, 93200.0, 23424.0, 23838.0, 23838.0, 23838.0, 23838.0, 31622.0, 80566.0, 80566.0, 80566.0, 23424.0, 23424.0, 23838.0, 23838.0, 23838.0, 23838.0, 31622.0, 76545.0, 76545.0, 76545.0, 80566.0, 80566.0, 80566.0, 82257.0, 82257.0, 82257.0, 23424.0, 23424.0, 23838.0, 23838.0, 23838.0, 23838.0, 31622.0, 80566.0, 80566.0, 80566.0, 23424.0, 23424.0, 23838.0, 23838.0, 23838.0, 23838.0, 31622.0, 80566.0, 80566.0, 80566.0, 23424.0, 23838.0, 23838.0, 23838.0, 31622.0, 80566.0, 80566.0, 86278.0, 23424.0, 23424.0, 23838.0, 23838.0, 23838.0, 23838.0, 80566.0, 80566.0, 80566.0, 23424.0, 23424.0, 23838.0, 23838.0, 23838.0, 23838.0, 32170.0, 32170.0, 80566.0, 80566.0, 23424.0, 23838.0, 23838.0, 23838.0, 23838.0, 32170.0, 32170.0, 80566.0, 80566.0, 23424.0, 23424.0, 23838.0, 23838.0, 23838.0, 23838.0, 32170.0, 32305.0, 32305.0, 80566.0, 80566.0, 85360.0, 90960.0, 90960.0, 93200.0, 93200.0, 23424.0, 23838.0, 23838.0, 23838.0, 23838.0, 32170.0, 80566.0, 80566.0, 85360.0, 90960.0, 90960.0, 93200.0, 93200.0, 23424.0, 23424.0, 23838.0, 23838.0, 23838.0, 23838.0, 32170.0, 32170.0, 80566.0, 80566.0, 80947.0, 80816.0, 82184.0, 81936.0, 85103.0, 90943.0, 98839.0, 107597.0, 107597.0, 78152.0, 78152.0, 80816.0, 78152.0, 78152.0, 89257.0, 89257.0, 80947.0, 78152.0, 80816.0, 86911.0, 78152.0, 80816.0, 80129.0, 26546.0, 12000.0, 26546.0, 26546.0, 25600.0, 79009.0, 79009.0, 94544.0, 96224.0, 25600.0, 77329.0, 77744.0, 85729.0, 85729.0, 87824.0, 93984.0, 93984.0, 94577.0, 102832.0, 20000.0, 78225.0, 86849.0, 20000.0, 80544.0, 80544.0, 80544.0, 80544.0, 84464.0, 84464.0, 84464.0, 86144.0, 96224.0, 102384.0, 20000.0, 80544.0, 80544.0, 84374.0, 84374.0, 84374.0, 20000.0, 84464.0, 84374.0, 84374.0, 84374.0, 86144.0, 94544.0, 20000.0, 20000.0, 87824.0, 93984.0, 20000.0, 84464.0, 84464.0, 86144.0, 94544.0, 20000.0, 20000.0, 84464.0, 86144.0, 94544.0, 102384.0, 20000.0, 84464.0, 84464.0, 86144.0, 96224.0, 20000.0, 77889.0, 79569.0, 20000.0, 77889.0, 79569.0, 20000.0, 20000.0, 20000.0, 20000.0, 82145.0, 82145.0, 20000.0, 84464.0, 84464.0, 86144.0, 96224.0, 20000.0, 20000.0, 79569.0, 20000.0, 20000.0, 20000.0, 20000.0, 20000.0, 79569.0, 79569.0, 20000.0, 79569.0, 20000.0, 20000.0, 20000.0, 20000.0, 20000.0, 20000.0, 20000.0, 20000.0, 20000.0, 86625.0, 86625.0, 20000.0, 84464.0, 84464.0, 84464.0, 86144.0, 20000.0, 20000.0, 20000.0, 20000.0, 20000.0, 20000.0, 20000.0, 20000.0, 20000.0, 84464.0, 84464.0, 84464.0, 86144.0, 20000.0, 84464.0, 84464.0, 85360.0, 86144.0, 20000.0, 82784.0, 82784.0, 82784.0, 82784.0, 84497.0, 92752.0, 80544.0, 80544.0, 80544.0, 80544.0, 80544.0, 80544.0, 80544.0, 80342.0, 80342.0, 80544.0, 80544.0, 80544.0, 80544.0, 80342.0, 80342.0, 80544.0, 80544.0, 80544.0, 80544.0, 80544.0, 80544.0, 80544.0, 80544.0, 80544.0, 80544.0, 87118.0, 80544.0, 80544.0, 80544.0, 80544.0, 79099.0, 81585.0, 81585.0, 79099.0, 81585.0, 89537.0, 79211.0, 81585.0, 88160.0, 91531.0, 79099.0, 89537.0, 89537.0, 77217.0, 81585.0, 81585.0, 87051.0, 79099.0, 81585.0, 88160.0, 79099.0, 81585.0, 81585.0, 79099.0, 81585.0, 81585.0, 79099.0, 81585.0, 81585.0, 79099.0, 81585.0, 88160.0, 77217.0, 79099.0, 81585.0, 81585.0, 79099.0, 81585.0, 89537.0, 79099.0, 81585.0, 89537.0, 79099.0, 81585.0, 81585.0, 79099.0, 81585.0, 81585.0, 79099.0, 81585.0, 81585.0, 79099.0, 80544.0, 80544.0, 80544.0, 80544.0, 81585.0, 79099.0, 81585.0, 89537.0, 79099.0, 81585.0, 81585.0, 79099.0, 81585.0, 81585.0, 79099.0, 81585.0, 81585.0, 79099.0, 81585.0, 81585.0, 79099.0, 81585.0, 81585.0, 15000.0, 77105.0, 79099.0, 81585.0, 81585.0, 15000.0, 77105.0, 79099.0, 81585.0, 81585.0, 15000.0, 77105.0, 80544.0, 80544.0, 80544.0, 80544.0, 81585.0, 87051.0, 89537.0, 15000.0, 77105.0, 79099.0, 80544.0, 80544.0, 80544.0, 81585.0, 81585.0, 87118.0, 15000.0, 77105.0, 79099.0, 81585.0, 81585.0]\n"
     ]
    }
   ],
   "source": [
    "if outliers:\n",
    "    for col, vals in outliers.items():\n",
    "        print(f\"\\nOutliers in column '{col}':\\n{vals}\")\n",
    "else:\n",
    "      print(\"No outliers found in the numerical columns.\")"
   ]
  },
  {
   "cell_type": "code",
   "execution_count": 45,
   "id": "2e6d93af-af79-41ba-8a06-7f889334dcbf",
   "metadata": {},
   "outputs": [
    {
     "data": {
      "image/png": "[encoded data removed]",
      "text/plain": [
       "<Figure size 640x480 with 1 Axes>"
      ]
     },
     "metadata": {},
     "output_type": "display_data"
    }
   ],
   "source": [
    "import matplotlib.pyplot as plt\n",
    "\n",
    "\n",
    "filtered_df = df[df['price'] < 70000]\n",
    "\n",
    "# Boxplot\n",
    "plt.boxplot(filtered_df['price'].dropna())\n",
    "plt.title(\"Boxplot of Price (< 70000)\")\n",
    "plt.ylabel(\"Price\")\n",
    "plt.show()"
   ]
  },
  {
   "cell_type": "markdown",
   "id": "989fe4db-ca52-42b2-b978-2cfd84c1e7bd",
   "metadata": {},
   "source": [
    "# Phase 2"
   ]
  },
  {
   "cell_type": "code",
   "execution_count": null,
   "id": "8762e497-f782-4484-bc43-1cbdc7fbb33c",
   "metadata": {},
   "outputs": [],
   "source": []
  }
 ],
 "metadata": {
  "kernelspec": {
   "display_name": "Python [conda env:base] *",
   "language": "python",
   "name": "conda-base-py"
  },
  "language_info": {
   "codemirror_mode": {
    "name": "ipython",
    "version": 3
   },
   "file_extension": ".py",
   "mimetype": "text/x-python",
   "name": "python",
   "nbconvert_exporter": "python",
   "pygments_lexer": "ipython3",
   "version": "3.12.7"
  }
 },
 "nbformat": 4,
 "nbformat_minor": 5
}
